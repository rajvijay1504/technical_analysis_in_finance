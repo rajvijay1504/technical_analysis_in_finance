{
 "cells": [
  {
   "cell_type": "code",
   "execution_count": 1,
   "id": "34429ec0-971f-426a-b171-0eb21df84450",
   "metadata": {},
   "outputs": [
    {
     "name": "stdout",
     "output_type": "stream",
     "text": [
      "Requirement already satisfied: ta in /Library/Frameworks/Python.framework/Versions/3.10/lib/python3.10/site-packages (0.11.0)\n",
      "Requirement already satisfied: numpy in /Library/Frameworks/Python.framework/Versions/3.10/lib/python3.10/site-packages (from ta) (1.25.2)\n",
      "Requirement already satisfied: pandas in /Library/Frameworks/Python.framework/Versions/3.10/lib/python3.10/site-packages (from ta) (2.1.0)\n",
      "Requirement already satisfied: python-dateutil>=2.8.2 in /Users/rajvijayvargiya/Library/Python/3.10/lib/python/site-packages (from pandas->ta) (2.8.2)\n",
      "Requirement already satisfied: pytz>=2020.1 in /Library/Frameworks/Python.framework/Versions/3.10/lib/python3.10/site-packages (from pandas->ta) (2023.3)\n",
      "Requirement already satisfied: tzdata>=2022.1 in /Library/Frameworks/Python.framework/Versions/3.10/lib/python3.10/site-packages (from pandas->ta) (2023.3)\n",
      "Requirement already satisfied: six>=1.5 in /Users/rajvijayvargiya/Library/Python/3.10/lib/python/site-packages (from python-dateutil>=2.8.2->pandas->ta) (1.16.0)\n",
      "\n",
      "\u001b[1m[\u001b[0m\u001b[34;49mnotice\u001b[0m\u001b[1;39;49m]\u001b[0m\u001b[39;49m A new release of pip is available: \u001b[0m\u001b[31;49m23.2.1\u001b[0m\u001b[39;49m -> \u001b[0m\u001b[32;49m24.1.2\u001b[0m\n",
      "\u001b[1m[\u001b[0m\u001b[34;49mnotice\u001b[0m\u001b[1;39;49m]\u001b[0m\u001b[39;49m To update, run: \u001b[0m\u001b[32;49mpip install --upgrade pip\u001b[0m\n"
     ]
    }
   ],
   "source": [
    "!pip install ta"
   ]
  },
  {
   "cell_type": "code",
   "execution_count": 2,
   "id": "887e70fa-bd98-4880-8095-c6ec29ff17e3",
   "metadata": {},
   "outputs": [
    {
     "name": "stdout",
     "output_type": "stream",
     "text": [
      "Requirement already satisfied: yfinance in /Library/Frameworks/Python.framework/Versions/3.10/lib/python3.10/site-packages (0.2.37)\n",
      "Requirement already satisfied: pandas>=1.3.0 in /Library/Frameworks/Python.framework/Versions/3.10/lib/python3.10/site-packages (from yfinance) (2.1.0)\n",
      "Requirement already satisfied: numpy>=1.16.5 in /Library/Frameworks/Python.framework/Versions/3.10/lib/python3.10/site-packages (from yfinance) (1.25.2)\n",
      "Requirement already satisfied: requests>=2.31 in /Library/Frameworks/Python.framework/Versions/3.10/lib/python3.10/site-packages (from yfinance) (2.31.0)\n",
      "Requirement already satisfied: multitasking>=0.0.7 in /Library/Frameworks/Python.framework/Versions/3.10/lib/python3.10/site-packages (from yfinance) (0.0.11)\n",
      "Requirement already satisfied: lxml>=4.9.1 in /Library/Frameworks/Python.framework/Versions/3.10/lib/python3.10/site-packages (from yfinance) (5.2.0)\n",
      "Requirement already satisfied: appdirs>=1.4.4 in /Library/Frameworks/Python.framework/Versions/3.10/lib/python3.10/site-packages (from yfinance) (1.4.4)\n",
      "Requirement already satisfied: pytz>=2022.5 in /Library/Frameworks/Python.framework/Versions/3.10/lib/python3.10/site-packages (from yfinance) (2023.3)\n",
      "Requirement already satisfied: frozendict>=2.3.4 in /Library/Frameworks/Python.framework/Versions/3.10/lib/python3.10/site-packages (from yfinance) (2.4.1)\n",
      "Requirement already satisfied: peewee>=3.16.2 in /Library/Frameworks/Python.framework/Versions/3.10/lib/python3.10/site-packages (from yfinance) (3.17.1)\n",
      "Requirement already satisfied: beautifulsoup4>=4.11.1 in /Library/Frameworks/Python.framework/Versions/3.10/lib/python3.10/site-packages (from yfinance) (4.12.2)\n",
      "Requirement already satisfied: html5lib>=1.1 in /Library/Frameworks/Python.framework/Versions/3.10/lib/python3.10/site-packages (from yfinance) (1.1)\n",
      "Requirement already satisfied: soupsieve>1.2 in /Library/Frameworks/Python.framework/Versions/3.10/lib/python3.10/site-packages (from beautifulsoup4>=4.11.1->yfinance) (2.4.1)\n",
      "Requirement already satisfied: six>=1.9 in /Users/rajvijayvargiya/Library/Python/3.10/lib/python/site-packages (from html5lib>=1.1->yfinance) (1.16.0)\n",
      "Requirement already satisfied: webencodings in /Library/Frameworks/Python.framework/Versions/3.10/lib/python3.10/site-packages (from html5lib>=1.1->yfinance) (0.5.1)\n",
      "Requirement already satisfied: python-dateutil>=2.8.2 in /Users/rajvijayvargiya/Library/Python/3.10/lib/python/site-packages (from pandas>=1.3.0->yfinance) (2.8.2)\n",
      "Requirement already satisfied: tzdata>=2022.1 in /Library/Frameworks/Python.framework/Versions/3.10/lib/python3.10/site-packages (from pandas>=1.3.0->yfinance) (2023.3)\n",
      "Requirement already satisfied: charset-normalizer<4,>=2 in /Library/Frameworks/Python.framework/Versions/3.10/lib/python3.10/site-packages (from requests>=2.31->yfinance) (3.2.0)\n",
      "Requirement already satisfied: idna<4,>=2.5 in /Library/Frameworks/Python.framework/Versions/3.10/lib/python3.10/site-packages (from requests>=2.31->yfinance) (3.4)\n",
      "Requirement already satisfied: urllib3<3,>=1.21.1 in /Library/Frameworks/Python.framework/Versions/3.10/lib/python3.10/site-packages (from requests>=2.31->yfinance) (2.0.4)\n",
      "Requirement already satisfied: certifi>=2017.4.17 in /Library/Frameworks/Python.framework/Versions/3.10/lib/python3.10/site-packages (from requests>=2.31->yfinance) (2023.11.17)\n",
      "\n",
      "\u001b[1m[\u001b[0m\u001b[34;49mnotice\u001b[0m\u001b[1;39;49m]\u001b[0m\u001b[39;49m A new release of pip is available: \u001b[0m\u001b[31;49m23.2.1\u001b[0m\u001b[39;49m -> \u001b[0m\u001b[32;49m24.1.2\u001b[0m\n",
      "\u001b[1m[\u001b[0m\u001b[34;49mnotice\u001b[0m\u001b[1;39;49m]\u001b[0m\u001b[39;49m To update, run: \u001b[0m\u001b[32;49mpip install --upgrade pip\u001b[0m\n"
     ]
    }
   ],
   "source": [
    "!pip install yfinance"
   ]
  },
  {
   "cell_type": "code",
   "execution_count": 3,
   "id": "b7b53857-f713-4aa2-bd20-69c31168f4e9",
   "metadata": {},
   "outputs": [
    {
     "name": "stdout",
     "output_type": "stream",
     "text": [
      "Requirement already satisfied: backtesting in /Library/Frameworks/Python.framework/Versions/3.10/lib/python3.10/site-packages (0.3.3)\n",
      "Requirement already satisfied: numpy>=1.17.0 in /Library/Frameworks/Python.framework/Versions/3.10/lib/python3.10/site-packages (from backtesting) (1.25.2)\n",
      "Requirement already satisfied: pandas!=0.25.0,>=0.25.0 in /Library/Frameworks/Python.framework/Versions/3.10/lib/python3.10/site-packages (from backtesting) (2.1.0)\n",
      "Requirement already satisfied: bokeh>=1.4.0 in /Library/Frameworks/Python.framework/Versions/3.10/lib/python3.10/site-packages (from backtesting) (3.4.1)\n",
      "Requirement already satisfied: Jinja2>=2.9 in /Library/Frameworks/Python.framework/Versions/3.10/lib/python3.10/site-packages (from bokeh>=1.4.0->backtesting) (3.1.2)\n",
      "Requirement already satisfied: contourpy>=1.2 in /Library/Frameworks/Python.framework/Versions/3.10/lib/python3.10/site-packages (from bokeh>=1.4.0->backtesting) (1.2.1)\n",
      "Requirement already satisfied: packaging>=16.8 in /Users/rajvijayvargiya/Library/Python/3.10/lib/python/site-packages (from bokeh>=1.4.0->backtesting) (23.1)\n",
      "Requirement already satisfied: pillow>=7.1.0 in /Library/Frameworks/Python.framework/Versions/3.10/lib/python3.10/site-packages (from bokeh>=1.4.0->backtesting) (10.0.0)\n",
      "Requirement already satisfied: PyYAML>=3.10 in /Library/Frameworks/Python.framework/Versions/3.10/lib/python3.10/site-packages (from bokeh>=1.4.0->backtesting) (6.0.1)\n",
      "Requirement already satisfied: tornado>=6.2 in /Users/rajvijayvargiya/Library/Python/3.10/lib/python/site-packages (from bokeh>=1.4.0->backtesting) (6.3.2)\n",
      "Requirement already satisfied: xyzservices>=2021.09.1 in /Library/Frameworks/Python.framework/Versions/3.10/lib/python3.10/site-packages (from bokeh>=1.4.0->backtesting) (2024.4.0)\n",
      "Requirement already satisfied: python-dateutil>=2.8.2 in /Users/rajvijayvargiya/Library/Python/3.10/lib/python/site-packages (from pandas!=0.25.0,>=0.25.0->backtesting) (2.8.2)\n",
      "Requirement already satisfied: pytz>=2020.1 in /Library/Frameworks/Python.framework/Versions/3.10/lib/python3.10/site-packages (from pandas!=0.25.0,>=0.25.0->backtesting) (2023.3)\n",
      "Requirement already satisfied: tzdata>=2022.1 in /Library/Frameworks/Python.framework/Versions/3.10/lib/python3.10/site-packages (from pandas!=0.25.0,>=0.25.0->backtesting) (2023.3)\n",
      "Requirement already satisfied: MarkupSafe>=2.0 in /Library/Frameworks/Python.framework/Versions/3.10/lib/python3.10/site-packages (from Jinja2>=2.9->bokeh>=1.4.0->backtesting) (2.1.3)\n",
      "Requirement already satisfied: six>=1.5 in /Users/rajvijayvargiya/Library/Python/3.10/lib/python/site-packages (from python-dateutil>=2.8.2->pandas!=0.25.0,>=0.25.0->backtesting) (1.16.0)\n",
      "\n",
      "\u001b[1m[\u001b[0m\u001b[34;49mnotice\u001b[0m\u001b[1;39;49m]\u001b[0m\u001b[39;49m A new release of pip is available: \u001b[0m\u001b[31;49m23.2.1\u001b[0m\u001b[39;49m -> \u001b[0m\u001b[32;49m24.1.2\u001b[0m\n",
      "\u001b[1m[\u001b[0m\u001b[34;49mnotice\u001b[0m\u001b[1;39;49m]\u001b[0m\u001b[39;49m To update, run: \u001b[0m\u001b[32;49mpip install --upgrade pip\u001b[0m\n"
     ]
    }
   ],
   "source": [
    "!pip install backtesting"
   ]
  },
  {
   "cell_type": "code",
   "execution_count": 4,
   "id": "a93c1c8d-4a15-48f3-a6e5-894675575cfc",
   "metadata": {},
   "outputs": [
    {
     "name": "stdout",
     "output_type": "stream",
     "text": [
      "Requirement already satisfied: backtrader in /Library/Frameworks/Python.framework/Versions/3.10/lib/python3.10/site-packages (1.9.78.123)\n",
      "\n",
      "\u001b[1m[\u001b[0m\u001b[34;49mnotice\u001b[0m\u001b[1;39;49m]\u001b[0m\u001b[39;49m A new release of pip is available: \u001b[0m\u001b[31;49m23.2.1\u001b[0m\u001b[39;49m -> \u001b[0m\u001b[32;49m24.1.2\u001b[0m\n",
      "\u001b[1m[\u001b[0m\u001b[34;49mnotice\u001b[0m\u001b[1;39;49m]\u001b[0m\u001b[39;49m To update, run: \u001b[0m\u001b[32;49mpip install --upgrade pip\u001b[0m\n"
     ]
    }
   ],
   "source": [
    "!pip install backtrader"
   ]
  },
  {
   "cell_type": "code",
   "execution_count": 5,
   "id": "6d712bd7-e40b-4f90-a020-1f097f46d127",
   "metadata": {},
   "outputs": [],
   "source": [
    "import pandas as pd\n",
    "import numpy as np\n",
    "import ta\n",
    "import yfinance as yf\n",
    "import ssl"
   ]
  },
  {
   "cell_type": "code",
   "execution_count": 6,
   "id": "fd2d9faf-bc29-4cf1-8e1b-2581ebf28fd3",
   "metadata": {},
   "outputs": [
    {
     "data": {
      "text/plain": [
       "['ADANIENT.NS',\n",
       " 'ADANIPORTS.NS',\n",
       " 'APOLLOHOSP.NS',\n",
       " 'ASIANPAINT.NS',\n",
       " 'AXISBANK.NS',\n",
       " 'BAJAJ-AUTO.NS',\n",
       " 'BAJFINANCE.NS',\n",
       " 'BAJAJFINSV.NS',\n",
       " 'BPCL.NS',\n",
       " 'BHARTIARTL.NS',\n",
       " 'BRITANNIA.NS',\n",
       " 'CIPLA.NS',\n",
       " 'COALINDIA.NS',\n",
       " 'DIVISLAB.NS',\n",
       " 'DRREDDY.NS',\n",
       " 'EICHERMOT.NS',\n",
       " 'GRASIM.NS',\n",
       " 'HCLTECH.NS',\n",
       " 'HDFCBANK.NS',\n",
       " 'HDFCLIFE.NS',\n",
       " 'HEROMOTOCO.NS',\n",
       " 'HINDALCO.NS',\n",
       " 'HINDUNILVR.NS',\n",
       " 'ICICIBANK.NS',\n",
       " 'INDUSINDBK.NS',\n",
       " 'INFY.NS',\n",
       " 'ITC.NS',\n",
       " 'JSWSTEEL.NS',\n",
       " 'KOTAKBANK.NS',\n",
       " 'LT.NS',\n",
       " 'LTIM.NS',\n",
       " 'M&M.NS',\n",
       " 'MARUTI.NS',\n",
       " 'NESTLEIND.NS',\n",
       " 'NTPC.NS',\n",
       " 'ONGC.NS',\n",
       " 'POWERGRID.NS',\n",
       " 'RELIANCE.NS',\n",
       " 'SBILIFE.NS',\n",
       " 'SHRIRAMFIN.NS',\n",
       " 'SBIN.NS',\n",
       " 'SUNPHARMA.NS',\n",
       " 'TCS.NS',\n",
       " 'TATACONSUM.NS',\n",
       " 'TATAMOTORS.NS',\n",
       " 'TATASTEEL.NS',\n",
       " 'TECHM.NS',\n",
       " 'TITAN.NS',\n",
       " 'ULTRACEMCO.NS',\n",
       " 'WIPRO.NS']"
      ]
     },
     "execution_count": 6,
     "metadata": {},
     "output_type": "execute_result"
    }
   ],
   "source": [
    "\n",
    "# Ignore SSL certificate verification\n",
    "ssl._create_default_https_context = ssl._create_unverified_context\n",
    "\n",
    "data = pd.read_html(\"https://en.wikipedia.org/wiki/NIFTY_50#Constituents\")[2]\n",
    "tickers = data.Symbol.to_list()\n",
    "\n",
    "tickers = [i + \".NS\" for i in tickers]\n",
    "\n",
    "tickers"
   ]
  },
  {
   "cell_type": "code",
   "execution_count": 7,
   "id": "5062a561-5473-48c2-bdfc-4f67064c2dca",
   "metadata": {},
   "outputs": [],
   "source": [
    "def RSI(asset):\n",
    "    df = yf.download(asset, start = '2021-01-01', end = '2024-01-01')\n",
    "    df['MA200'] = df[\"Adj Close\"].rolling(window = 200).mean()\n",
    "    df['Upmove'] = (df['Close'] - df['Open']).apply(lambda x: x if x > 0 else 0)\n",
    "    df['Downmove'] = (df['Close'] - df['Open']).apply(lambda x: abs(x) if x < 0 else 0)\n",
    "    df['avg_up'] = df['Upmove'].ewm(span=14, min_periods=14).mean()\n",
    "    df['avg_down'] = df['Downmove'].ewm(span=14, min_periods=14).mean()\n",
    "    df.dropna(inplace=True)\n",
    "    df['RS'] = df['avg_up'] / df['avg_down']\n",
    "    df['RSI'] = 100 - (100 / (1 + df['RS']))\n",
    "    df.loc[(df['Adj Close']>df['MA200']) & (df['RSI'] < 30), 'BUY'] = \"YES\"\n",
    "    df.loc[(df['Adj Close']<df['MA200'] )| (df['RSI'] > 30), 'BUY'] = \"NO\"\n",
    "    return df\n",
    "\n",
    "# # Call the RSI function for a specific asset\n",
    "# asset = 'AAPL'  # Example asset symbol\n",
    "# result_df = RSI(asset)\n",
    "\n",
    "# # Print the resulting DataFrame\n",
    "# print(result_df.head())  # Print the first few rows of the DataFrame to check the output"
   ]
  },
  {
   "cell_type": "code",
   "execution_count": 8,
   "id": "95192856-a69d-4868-8b58-99e376e90746",
   "metadata": {},
   "outputs": [],
   "source": [
    "def getSignalRSI(df):\n",
    "    Buy_dates = []\n",
    "    Sell_dates = []\n",
    "    for i in range(len(df) - 21):\n",
    "        if \"YES\" in df['BUY'].iloc[i]:\n",
    "            Buy_dates.append(df.iloc[i+1].name)\n",
    "            for j in range(1,21):\n",
    "                if df['RSI'].iloc[i+j] > 70:\n",
    "                    Sell_dates.append(df.iloc[i+j+1].name)\n",
    "                    break\n",
    "                elif j == 20:\n",
    "                    Sell_dates.append(df.iloc[i+j+1].name)\n",
    "\n",
    "    return Buy_dates,Sell_dates\n",
    "        "
   ]
  },
  {
   "cell_type": "code",
   "execution_count": 9,
   "id": "c0fe9aab-99cc-4ee9-859b-336a68310844",
   "metadata": {},
   "outputs": [
    {
     "name": "stderr",
     "output_type": "stream",
     "text": [
      "[*********************100%%**********************]  1 of 1 completed\n",
      "/var/folders/28/x8q2f_yx2g7881jgwz63bk5r0000gn/T/ipykernel_22042/3723904294.py:11: FutureWarning: Setting an item of incompatible dtype is deprecated and will raise in a future error of pandas. Value 'YES' has dtype incompatible with float64, please explicitly cast to a compatible dtype first.\n",
      "  df.loc[(df['Adj Close']>df['MA200']) & (df['RSI'] < 30), 'BUY'] = \"YES\"\n"
     ]
    }
   ],
   "source": [
    "d = RSI(tickers[3])\n",
    "Buy,Sell = getSignalRSI(d)"
   ]
  },
  {
   "cell_type": "code",
   "execution_count": 10,
   "id": "7a289687-a961-4ed7-a096-7279efcfb3ce",
   "metadata": {},
   "outputs": [],
   "source": [
    "import matplotlib.pyplot as plt"
   ]
  },
  {
   "cell_type": "code",
   "execution_count": 11,
   "id": "b17bd9b6-3adf-4115-a980-36e212badb0e",
   "metadata": {},
   "outputs": [
    {
     "data": {
      "text/plain": [
       "[<matplotlib.lines.Line2D at 0x11e86ee60>]"
      ]
     },
     "execution_count": 11,
     "metadata": {},
     "output_type": "execute_result"
    },
    {
     "data": {
      "image/png": "[encoded data removed]",
      "text/plain": [
       "<Figure size 1200x500 with 1 Axes>"
      ]
     },
     "metadata": {},
     "output_type": "display_data"
    }
   ],
   "source": [
    "plt.figure(figsize=(12,5))\n",
    "plt.scatter(d.loc[Buy].index,d.loc[Buy]['Adj Close'], marker = '^', color = 'g')\n",
    "plt.scatter(d.loc[Sell].index,d.loc[Sell]['Adj Close'], marker = 'v', color = 'r')\n",
    "plt.plot(d['Adj Close'], alpha = 0.7)"
   ]
  },
  {
   "cell_type": "code",
   "execution_count": 12,
   "id": "d73cf83c-a0a4-4fc0-b7eb-33a42a8e523d",
   "metadata": {},
   "outputs": [
    {
     "data": {
      "text/plain": [
       "array([1.08001697, 1.1682711 , 1.19596222, 1.32665254, 1.47555585,\n",
       "       1.47465667, 1.48007157, 1.56601121, 1.63578122, 1.71417329,\n",
       "       1.7906014 , 1.83881421, 1.88196159, 1.92129537, 1.97674053,\n",
       "       1.91083887, 1.83602044, 1.78262773, 1.76218996, 1.80086728,\n",
       "       1.78581663, 1.76497928, 1.73644455, 1.7771388 , 1.81077961,\n",
       "       1.83375896, 1.84757259, 1.87654783, 1.8455699 , 1.82294333,\n",
       "       1.81248334, 1.83579502, 1.88407253, 1.92330748, 1.95725485])"
      ]
     },
     "execution_count": 12,
     "metadata": {},
     "output_type": "execute_result"
    }
   ],
   "source": [
    "profits = (d.loc[Sell].Open.values - d.loc[Buy].Open.values)/d.loc[Buy].Open.values\n",
    "\n",
    "Net_prof = (1+profits).cumprod()\n",
    "Net_prof"
   ]
  },
  {
   "cell_type": "raw",
   "id": "017967d3-38ac-4f5d-8e32-c28ac2b13078",
   "metadata": {},
   "source": [
    "MACD Indicator"
   ]
  },
  {
   "cell_type": "code",
   "execution_count": 13,
   "id": "a2e7c64e-975a-40fe-b7c1-fb3c10885519",
   "metadata": {},
   "outputs": [],
   "source": [
    "def MACD(asset):\n",
    "    df = yf.download(asset, start = '2023-11-01', end = '2024-01-01', interval = '1h')\n",
    "    df['EMA12'] = df['Adj Close'].ewm(span = 12).mean()\n",
    "    df['EMA26'] = df['Adj Close'].ewm(span = 26).mean()\n",
    "    df['MACD'] = df['EMA12'] - df['EMA26']\n",
    "    df['Signal'] = df['MACD'].ewm(span = 9).mean()\n",
    "    return df"
   ]
  },
  {
   "cell_type": "code",
   "execution_count": 14,
   "id": "306f5e67-9673-4ad3-96ca-f0d2d4f508aa",
   "metadata": {},
   "outputs": [
    {
     "name": "stderr",
     "output_type": "stream",
     "text": [
      "[*********************100%%**********************]  1 of 1 completed\n"
     ]
    },
    {
     "data": {
      "text/html": [
       "<div>\n",
       "<style scoped>\n",
       "    .dataframe tbody tr th:only-of-type {\n",
       "        vertical-align: middle;\n",
       "    }\n",
       "\n",
       "    .dataframe tbody tr th {\n",
       "        vertical-align: top;\n",
       "    }\n",
       "\n",
       "    .dataframe thead th {\n",
       "        text-align: right;\n",
       "    }\n",
       "</style>\n",
       "<table border=\"1\" class=\"dataframe\">\n",
       "  <thead>\n",
       "    <tr style=\"text-align: right;\">\n",
       "      <th></th>\n",
       "      <th>Open</th>\n",
       "      <th>High</th>\n",
       "      <th>Low</th>\n",
       "      <th>Close</th>\n",
       "      <th>Adj Close</th>\n",
       "      <th>Volume</th>\n",
       "      <th>EMA12</th>\n",
       "      <th>EMA26</th>\n",
       "      <th>MACD</th>\n",
       "      <th>Signal</th>\n",
       "    </tr>\n",
       "    <tr>\n",
       "      <th>Datetime</th>\n",
       "      <th></th>\n",
       "      <th></th>\n",
       "      <th></th>\n",
       "      <th></th>\n",
       "      <th></th>\n",
       "      <th></th>\n",
       "      <th></th>\n",
       "      <th></th>\n",
       "      <th></th>\n",
       "      <th></th>\n",
       "    </tr>\n",
       "  </thead>\n",
       "  <tbody>\n",
       "    <tr>\n",
       "      <th>2023-11-01 09:15:00+05:30</th>\n",
       "      <td>5413.649902</td>\n",
       "      <td>5438.350098</td>\n",
       "      <td>5348.600098</td>\n",
       "      <td>5374.899902</td>\n",
       "      <td>5374.899902</td>\n",
       "      <td>0</td>\n",
       "      <td>5374.899902</td>\n",
       "      <td>5374.899902</td>\n",
       "      <td>0.000000</td>\n",
       "      <td>0.000000</td>\n",
       "    </tr>\n",
       "    <tr>\n",
       "      <th>2023-11-01 10:15:00+05:30</th>\n",
       "      <td>5375.000000</td>\n",
       "      <td>5385.000000</td>\n",
       "      <td>5361.350098</td>\n",
       "      <td>5370.000000</td>\n",
       "      <td>5370.000000</td>\n",
       "      <td>48197</td>\n",
       "      <td>5372.245789</td>\n",
       "      <td>5372.355722</td>\n",
       "      <td>-0.109934</td>\n",
       "      <td>-0.061074</td>\n",
       "    </tr>\n",
       "    <tr>\n",
       "      <th>2023-11-01 11:15:00+05:30</th>\n",
       "      <td>5376.299805</td>\n",
       "      <td>5399.950195</td>\n",
       "      <td>5370.000000</td>\n",
       "      <td>5382.899902</td>\n",
       "      <td>5382.899902</td>\n",
       "      <td>128322</td>\n",
       "      <td>5376.404092</td>\n",
       "      <td>5376.144144</td>\n",
       "      <td>0.259948</td>\n",
       "      <td>0.070492</td>\n",
       "    </tr>\n",
       "    <tr>\n",
       "      <th>2023-11-01 12:15:00+05:30</th>\n",
       "      <td>5382.850098</td>\n",
       "      <td>5385.000000</td>\n",
       "      <td>5362.100098</td>\n",
       "      <td>5367.899902</td>\n",
       "      <td>5367.899902</td>\n",
       "      <td>63117</td>\n",
       "      <td>5373.719651</td>\n",
       "      <td>5373.839414</td>\n",
       "      <td>-0.119763</td>\n",
       "      <td>0.006043</td>\n",
       "    </tr>\n",
       "    <tr>\n",
       "      <th>2023-11-01 13:15:00+05:30</th>\n",
       "      <td>5367.850098</td>\n",
       "      <td>5375.000000</td>\n",
       "      <td>5363.850098</td>\n",
       "      <td>5372.000000</td>\n",
       "      <td>5372.000000</td>\n",
       "      <td>44133</td>\n",
       "      <td>5373.252428</td>\n",
       "      <td>5373.412846</td>\n",
       "      <td>-0.160418</td>\n",
       "      <td>-0.043476</td>\n",
       "    </tr>\n",
       "    <tr>\n",
       "      <th>...</th>\n",
       "      <td>...</td>\n",
       "      <td>...</td>\n",
       "      <td>...</td>\n",
       "      <td>...</td>\n",
       "      <td>...</td>\n",
       "      <td>...</td>\n",
       "      <td>...</td>\n",
       "      <td>...</td>\n",
       "      <td>...</td>\n",
       "      <td>...</td>\n",
       "    </tr>\n",
       "    <tr>\n",
       "      <th>2023-12-29 11:15:00+05:30</th>\n",
       "      <td>6710.350098</td>\n",
       "      <td>6734.000000</td>\n",
       "      <td>6701.000000</td>\n",
       "      <td>6720.100098</td>\n",
       "      <td>6720.100098</td>\n",
       "      <td>28740</td>\n",
       "      <td>6677.572693</td>\n",
       "      <td>6604.310241</td>\n",
       "      <td>73.262452</td>\n",
       "      <td>77.215016</td>\n",
       "    </tr>\n",
       "    <tr>\n",
       "      <th>2023-12-29 12:15:00+05:30</th>\n",
       "      <td>6722.750000</td>\n",
       "      <td>6760.000000</td>\n",
       "      <td>6718.149902</td>\n",
       "      <td>6750.350098</td>\n",
       "      <td>6750.350098</td>\n",
       "      <td>46708</td>\n",
       "      <td>6688.769216</td>\n",
       "      <td>6615.128008</td>\n",
       "      <td>73.641209</td>\n",
       "      <td>76.500255</td>\n",
       "    </tr>\n",
       "    <tr>\n",
       "      <th>2023-12-29 13:15:00+05:30</th>\n",
       "      <td>6752.500000</td>\n",
       "      <td>6757.899902</td>\n",
       "      <td>6732.000000</td>\n",
       "      <td>6740.549805</td>\n",
       "      <td>6740.549805</td>\n",
       "      <td>29652</td>\n",
       "      <td>6696.735461</td>\n",
       "      <td>6624.418511</td>\n",
       "      <td>72.316949</td>\n",
       "      <td>75.663594</td>\n",
       "    </tr>\n",
       "    <tr>\n",
       "      <th>2023-12-29 14:15:00+05:30</th>\n",
       "      <td>6742.549805</td>\n",
       "      <td>6805.000000</td>\n",
       "      <td>6735.000000</td>\n",
       "      <td>6790.899902</td>\n",
       "      <td>6790.899902</td>\n",
       "      <td>80250</td>\n",
       "      <td>6711.222298</td>\n",
       "      <td>6636.750466</td>\n",
       "      <td>74.471832</td>\n",
       "      <td>75.425241</td>\n",
       "    </tr>\n",
       "    <tr>\n",
       "      <th>2023-12-29 15:15:00+05:30</th>\n",
       "      <td>6792.399902</td>\n",
       "      <td>6833.950195</td>\n",
       "      <td>6784.000000</td>\n",
       "      <td>6797.250000</td>\n",
       "      <td>6797.250000</td>\n",
       "      <td>41411</td>\n",
       "      <td>6724.457329</td>\n",
       "      <td>6648.639321</td>\n",
       "      <td>75.818008</td>\n",
       "      <td>75.503795</td>\n",
       "    </tr>\n",
       "  </tbody>\n",
       "</table>\n",
       "<p>280 rows × 10 columns</p>\n",
       "</div>"
      ],
      "text/plain": [
       "                                  Open         High          Low        Close  \\\n",
       "Datetime                                                                        \n",
       "2023-11-01 09:15:00+05:30  5413.649902  5438.350098  5348.600098  5374.899902   \n",
       "2023-11-01 10:15:00+05:30  5375.000000  5385.000000  5361.350098  5370.000000   \n",
       "2023-11-01 11:15:00+05:30  5376.299805  5399.950195  5370.000000  5382.899902   \n",
       "2023-11-01 12:15:00+05:30  5382.850098  5385.000000  5362.100098  5367.899902   \n",
       "2023-11-01 13:15:00+05:30  5367.850098  5375.000000  5363.850098  5372.000000   \n",
       "...                                ...          ...          ...          ...   \n",
       "2023-12-29 11:15:00+05:30  6710.350098  6734.000000  6701.000000  6720.100098   \n",
       "2023-12-29 12:15:00+05:30  6722.750000  6760.000000  6718.149902  6750.350098   \n",
       "2023-12-29 13:15:00+05:30  6752.500000  6757.899902  6732.000000  6740.549805   \n",
       "2023-12-29 14:15:00+05:30  6742.549805  6805.000000  6735.000000  6790.899902   \n",
       "2023-12-29 15:15:00+05:30  6792.399902  6833.950195  6784.000000  6797.250000   \n",
       "\n",
       "                             Adj Close  Volume        EMA12        EMA26  \\\n",
       "Datetime                                                                   \n",
       "2023-11-01 09:15:00+05:30  5374.899902       0  5374.899902  5374.899902   \n",
       "2023-11-01 10:15:00+05:30  5370.000000   48197  5372.245789  5372.355722   \n",
       "2023-11-01 11:15:00+05:30  5382.899902  128322  5376.404092  5376.144144   \n",
       "2023-11-01 12:15:00+05:30  5367.899902   63117  5373.719651  5373.839414   \n",
       "2023-11-01 13:15:00+05:30  5372.000000   44133  5373.252428  5373.412846   \n",
       "...                                ...     ...          ...          ...   \n",
       "2023-12-29 11:15:00+05:30  6720.100098   28740  6677.572693  6604.310241   \n",
       "2023-12-29 12:15:00+05:30  6750.350098   46708  6688.769216  6615.128008   \n",
       "2023-12-29 13:15:00+05:30  6740.549805   29652  6696.735461  6624.418511   \n",
       "2023-12-29 14:15:00+05:30  6790.899902   80250  6711.222298  6636.750466   \n",
       "2023-12-29 15:15:00+05:30  6797.250000   41411  6724.457329  6648.639321   \n",
       "\n",
       "                                MACD     Signal  \n",
       "Datetime                                         \n",
       "2023-11-01 09:15:00+05:30   0.000000   0.000000  \n",
       "2023-11-01 10:15:00+05:30  -0.109934  -0.061074  \n",
       "2023-11-01 11:15:00+05:30   0.259948   0.070492  \n",
       "2023-11-01 12:15:00+05:30  -0.119763   0.006043  \n",
       "2023-11-01 13:15:00+05:30  -0.160418  -0.043476  \n",
       "...                              ...        ...  \n",
       "2023-12-29 11:15:00+05:30  73.262452  77.215016  \n",
       "2023-12-29 12:15:00+05:30  73.641209  76.500255  \n",
       "2023-12-29 13:15:00+05:30  72.316949  75.663594  \n",
       "2023-12-29 14:15:00+05:30  74.471832  75.425241  \n",
       "2023-12-29 15:15:00+05:30  75.818008  75.503795  \n",
       "\n",
       "[280 rows x 10 columns]"
      ]
     },
     "execution_count": 14,
     "metadata": {},
     "output_type": "execute_result"
    }
   ],
   "source": [
    "MACD_Frame = MACD(tickers[5])\n",
    "MACD_Frame"
   ]
  },
  {
   "cell_type": "code",
   "execution_count": 15,
   "id": "1326a4be-b567-4b3e-b629-d2bd71240d4d",
   "metadata": {},
   "outputs": [],
   "source": [
    "Buy,Sell = [],[]\n",
    "for i in range (2,len(MACD_Frame)):\n",
    "    if MACD_Frame.MACD.iloc[i] > MACD_Frame.Signal.iloc[i] and MACD_Frame.MACD.iloc[i - 1] < MACD_Frame.Signal.iloc[i - 1]:\n",
    "        Buy.append(i+1)\n",
    "    elif MACD_Frame.MACD.iloc[i] < MACD_Frame.Signal.iloc[i] and MACD_Frame.MACD.iloc[i - 1] > MACD_Frame.Signal.iloc[i - 1]:\n",
    "        Sell.append(i+1)\n",
    "    "
   ]
  },
  {
   "cell_type": "code",
   "execution_count": 16,
   "id": "d2ec1d31-acf1-4d26-bb39-d1c7a065066a",
   "metadata": {},
   "outputs": [],
   "source": [
    "Buy = [i for i in Buy if i < len(MACD_Frame)]\n",
    "Sell = [i for i in Sell if i < len(MACD_Frame)]\n",
    "\n",
    "Buy_Price = MACD_Frame.Open.iloc[Buy]\n",
    "Sell_Price = MACD_Frame.Open.iloc[Sell]\n"
   ]
  },
  {
   "cell_type": "code",
   "execution_count": 17,
   "id": "4e92038d-81e4-459b-af0f-294a12ceb86e",
   "metadata": {},
   "outputs": [],
   "source": [
    "if Buy_Price.index[0] > Sell_Price.index[0]:\n",
    "    Sell_Price = Sell_Price.drop(Sell_Price.index[-1])\n",
    "elif Buy_Price.index[-1] > Sell_Price.index[-1]:\n",
    "    Buy_Price  = Buy_Price.drop(Buy_Price.index[-1])"
   ]
  },
  {
   "cell_type": "code",
   "execution_count": 18,
   "id": "80027392-46eb-43f5-a55a-11b498720502",
   "metadata": {},
   "outputs": [],
   "source": [
    "Profits = []\n",
    "\n",
    "for i in range(len(Buy_Price)):\n",
    "    Profits.append((Sell_Price.iloc[i] - Buy_Price.iloc[i])/Buy_Price.iloc[i])"
   ]
  },
  {
   "cell_type": "code",
   "execution_count": 19,
   "id": "2009aff4-8523-4601-afbf-522a7e049c8c",
   "metadata": {},
   "outputs": [],
   "source": [
    "Profits = np.array(Profits)"
   ]
  },
  {
   "cell_type": "code",
   "execution_count": 20,
   "id": "0cf38cb3-a183-4bf2-b8f9-fd37355800fd",
   "metadata": {},
   "outputs": [
    {
     "data": {
      "text/plain": [
       "array([0.99721337, 1.01277692, 1.00818181, 1.04816636, 1.08154284,\n",
       "       1.07661752, 1.07164304, 1.06693036, 1.0589654 , 1.09253457,\n",
       "       1.08880911, 1.1433392 ])"
      ]
     },
     "execution_count": 20,
     "metadata": {},
     "output_type": "execute_result"
    }
   ],
   "source": [
    "Net_Profits = (1 + Profits).cumprod()\n",
    "Net_Profits"
   ]
  },
  {
   "cell_type": "code",
   "execution_count": 21,
   "id": "b6f3bcdb-a5b9-4670-910c-9dd0b3f65b0a",
   "metadata": {},
   "outputs": [
    {
     "data": {
      "image/png": "[encoded data removed]",
      "text/plain": [
       "<Figure size 1200x600 with 1 Axes>"
      ]
     },
     "metadata": {},
     "output_type": "display_data"
    }
   ],
   "source": [
    "dates = MACD_Frame.index[Buy[:len(Net_Profits)]] \n",
    "\n",
    "# Plot cumulative profit over time\n",
    "plt.figure(figsize=(12, 6))\n",
    "plt.plot(dates, Net_Profits, label='Net Profits')\n",
    "plt.xlabel('Date')\n",
    "plt.ylabel('Cumulative Profit')\n",
    "plt.title('Cumulative Profit Over Time')\n",
    "plt.legend()\n",
    "plt.grid(True)\n",
    "plt.show()"
   ]
  },
  {
   "cell_type": "code",
   "execution_count": null,
   "id": "4a0f57bf",
   "metadata": {},
   "outputs": [],
   "source": []
  }
 ],
 "metadata": {
  "kernelspec": {
   "display_name": "Python 3 (ipykernel)",
   "language": "python",
   "name": "python3"
  },
  "language_info": {
   "codemirror_mode": {
    "name": "ipython",
    "version": 3
   },
   "file_extension": ".py",
   "mimetype": "text/x-python",
   "name": "python",
   "nbconvert_exporter": "python",
   "pygments_lexer": "ipython3",
   "version": "3.10.11"
  }
 },
 "nbformat": 4,
 "nbformat_minor": 5
}
